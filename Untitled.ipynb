{
 "cells": [
  {
   "cell_type": "code",
   "execution_count": 2,
   "id": "5f233aa4-23bb-4930-af80-492f85adc494",
   "metadata": {},
   "outputs": [
    {
     "name": "stdout",
     "output_type": "stream",
     "text": [
      "Requirement already satisfied: pandas in /opt/conda/lib/python3.12/site-packages (from -r requirements.txt (line 1)) (2.2.3)\n",
      "Requirement already satisfied: numpy in /opt/conda/lib/python3.12/site-packages (from -r requirements.txt (line 2)) (1.26.4)\n",
      "Requirement already satisfied: matplotlib in /opt/conda/lib/python3.12/site-packages (from -r requirements.txt (line 3)) (3.10.1)\n",
      "Requirement already satisfied: seaborn in /opt/conda/lib/python3.12/site-packages (from -r requirements.txt (line 4)) (0.13.2)\n",
      "Requirement already satisfied: scikit-learn in /opt/conda/lib/python3.12/site-packages (from -r requirements.txt (line 5)) (1.5.2)\n",
      "Collecting imbalanced-learn (from -r requirements.txt (line 6))\n",
      "  Downloading imbalanced_learn-0.13.0-py3-none-any.whl.metadata (8.8 kB)\n",
      "Requirement already satisfied: torch in /opt/conda/lib/python3.12/site-packages (from -r requirements.txt (line 7)) (2.5.1)\n",
      "Requirement already satisfied: python-dateutil>=2.8.2 in /opt/conda/lib/python3.12/site-packages (from pandas->-r requirements.txt (line 1)) (2.9.0.post0)\n",
      "Requirement already satisfied: pytz>=2020.1 in /opt/conda/lib/python3.12/site-packages (from pandas->-r requirements.txt (line 1)) (2024.1)\n",
      "Requirement already satisfied: tzdata>=2022.7 in /opt/conda/lib/python3.12/site-packages (from pandas->-r requirements.txt (line 1)) (2025.1)\n",
      "Requirement already satisfied: contourpy>=1.0.1 in /opt/conda/lib/python3.12/site-packages (from matplotlib->-r requirements.txt (line 3)) (1.3.1)\n",
      "Requirement already satisfied: cycler>=0.10 in /opt/conda/lib/python3.12/site-packages (from matplotlib->-r requirements.txt (line 3)) (0.12.1)\n",
      "Requirement already satisfied: fonttools>=4.22.0 in /opt/conda/lib/python3.12/site-packages (from matplotlib->-r requirements.txt (line 3)) (4.56.0)\n",
      "Requirement already satisfied: kiwisolver>=1.3.1 in /opt/conda/lib/python3.12/site-packages (from matplotlib->-r requirements.txt (line 3)) (1.4.8)\n",
      "Requirement already satisfied: packaging>=20.0 in /opt/conda/lib/python3.12/site-packages (from matplotlib->-r requirements.txt (line 3)) (24.2)\n",
      "Requirement already satisfied: pillow>=8 in /opt/conda/lib/python3.12/site-packages (from matplotlib->-r requirements.txt (line 3)) (11.1.0)\n",
      "Requirement already satisfied: pyparsing>=2.3.1 in /opt/conda/lib/python3.12/site-packages (from matplotlib->-r requirements.txt (line 3)) (3.2.1)\n",
      "Requirement already satisfied: scipy>=1.6.0 in /opt/conda/lib/python3.12/site-packages (from scikit-learn->-r requirements.txt (line 5)) (1.15.2)\n",
      "Requirement already satisfied: joblib>=1.2.0 in /opt/conda/lib/python3.12/site-packages (from scikit-learn->-r requirements.txt (line 5)) (1.4.2)\n",
      "Requirement already satisfied: threadpoolctl>=3.1.0 in /opt/conda/lib/python3.12/site-packages (from scikit-learn->-r requirements.txt (line 5)) (3.6.0)\n",
      "Collecting sklearn-compat<1,>=0.1 (from imbalanced-learn->-r requirements.txt (line 6))\n",
      "  Downloading sklearn_compat-0.1.3-py3-none-any.whl.metadata (18 kB)\n",
      "Requirement already satisfied: filelock in /opt/conda/lib/python3.12/site-packages (from torch->-r requirements.txt (line 7)) (3.18.0)\n",
      "Requirement already satisfied: typing-extensions>=4.8.0 in /opt/conda/lib/python3.12/site-packages (from torch->-r requirements.txt (line 7)) (4.12.2)\n",
      "Requirement already satisfied: setuptools in /opt/conda/lib/python3.12/site-packages (from torch->-r requirements.txt (line 7)) (75.8.2)\n",
      "Requirement already satisfied: sympy!=1.13.2,>=1.13.1 in /opt/conda/lib/python3.12/site-packages (from torch->-r requirements.txt (line 7)) (1.13.3)\n",
      "Requirement already satisfied: networkx in /opt/conda/lib/python3.12/site-packages (from torch->-r requirements.txt (line 7)) (3.4.2)\n",
      "Requirement already satisfied: jinja2 in /opt/conda/lib/python3.12/site-packages (from torch->-r requirements.txt (line 7)) (3.1.6)\n",
      "Requirement already satisfied: fsspec in /opt/conda/lib/python3.12/site-packages (from torch->-r requirements.txt (line 7)) (2024.10.0)\n",
      "Requirement already satisfied: six>=1.5 in /opt/conda/lib/python3.12/site-packages (from python-dateutil>=2.8.2->pandas->-r requirements.txt (line 1)) (1.17.0)\n",
      "Requirement already satisfied: mpmath<1.4,>=1.1.0 in /opt/conda/lib/python3.12/site-packages (from sympy!=1.13.2,>=1.13.1->torch->-r requirements.txt (line 7)) (1.3.0)\n",
      "Requirement already satisfied: MarkupSafe>=2.0 in /opt/conda/lib/python3.12/site-packages (from jinja2->torch->-r requirements.txt (line 7)) (3.0.2)\n",
      "Downloading imbalanced_learn-0.13.0-py3-none-any.whl (238 kB)\n",
      "Downloading sklearn_compat-0.1.3-py3-none-any.whl (18 kB)\n",
      "Installing collected packages: sklearn-compat, imbalanced-learn\n",
      "Successfully installed imbalanced-learn-0.13.0 sklearn-compat-0.1.3\n"
     ]
    }
   ],
   "source": [
    "!pip install -r requirements.txt"
   ]
  },
  {
   "cell_type": "code",
   "execution_count": 208,
   "id": "3ee726e9-cd38-4d42-8c32-01f8bf0533ed",
   "metadata": {},
   "outputs": [],
   "source": [
    "!python pre3.py"
   ]
  },
  {
   "cell_type": "code",
   "execution_count": 209,
   "id": "1764b1ac-24fa-4031-bd57-37a7211c9a95",
   "metadata": {},
   "outputs": [
    {
     "name": "stdout",
     "output_type": "stream",
     "text": [
      "使用設備: cuda\n",
      "Epoch 1/200, Train Loss: 0.0794, Val Loss: 0.0545\n",
      "Epoch 2/200, Train Loss: 0.0508, Val Loss: 0.0499\n",
      "Epoch 3/200, Train Loss: 0.0485, Val Loss: 0.0480\n",
      "Epoch 4/200, Train Loss: 0.0473, Val Loss: 0.0478\n",
      "Epoch 5/200, Train Loss: 0.0453, Val Loss: 0.0457\n",
      "Epoch 6/200, Train Loss: 0.0432, Val Loss: 0.0436\n",
      "Epoch 7/200, Train Loss: 0.0418, Val Loss: 0.0426\n",
      "Epoch 8/200, Train Loss: 0.0404, Val Loss: 0.0432\n",
      "Epoch 9/200, Train Loss: 0.0420, Val Loss: 0.0417\n",
      "Epoch 10/200, Train Loss: 0.0405, Val Loss: 0.0442\n",
      "Epoch 11/200, Train Loss: 0.0394, Val Loss: 0.0401\n",
      "Epoch 12/200, Train Loss: 0.0380, Val Loss: 0.0375\n",
      "Epoch 13/200, Train Loss: 0.0361, Val Loss: 0.0376\n",
      "Epoch 14/200, Train Loss: 0.0356, Val Loss: 0.0360\n",
      "Epoch 15/200, Train Loss: 0.0343, Val Loss: 0.0357\n",
      "Epoch 16/200, Train Loss: 0.0337, Val Loss: 0.0340\n",
      "Epoch 17/200, Train Loss: 0.0332, Val Loss: 0.0329\n",
      "Epoch 18/200, Train Loss: 0.0331, Val Loss: 0.0352\n",
      "Epoch 19/200, Train Loss: 0.0325, Val Loss: 0.0337\n",
      "Epoch 20/200, Train Loss: 0.0307, Val Loss: 0.0304\n",
      "Epoch 21/200, Train Loss: 0.0297, Val Loss: 0.0307\n",
      "Epoch 22/200, Train Loss: 0.0301, Val Loss: 0.0309\n",
      "Epoch 23/200, Train Loss: 0.0282, Val Loss: 0.0297\n",
      "Epoch 24/200, Train Loss: 0.0285, Val Loss: 0.0284\n",
      "Epoch 25/200, Train Loss: 0.0270, Val Loss: 0.0287\n",
      "Epoch 26/200, Train Loss: 0.0264, Val Loss: 0.0285\n",
      "Epoch 27/200, Train Loss: 0.0266, Val Loss: 0.0269\n",
      "Epoch 28/200, Train Loss: 0.0266, Val Loss: 0.0278\n",
      "Epoch 29/200, Train Loss: 0.0272, Val Loss: 0.0262\n",
      "Epoch 30/200, Train Loss: 0.0253, Val Loss: 0.0263\n",
      "Epoch 31/200, Train Loss: 0.0244, Val Loss: 0.0223\n",
      "Epoch 32/200, Train Loss: 0.0233, Val Loss: 0.0234\n",
      "Epoch 33/200, Train Loss: 0.0225, Val Loss: 0.0241\n",
      "Epoch 34/200, Train Loss: 0.0231, Val Loss: 0.0255\n",
      "Epoch 35/200, Train Loss: 0.0242, Val Loss: 0.0271\n",
      "Epoch 36/200, Train Loss: 0.0231, Val Loss: 0.0251\n",
      "Epoch 37/200, Train Loss: 0.0201, Val Loss: 0.0226\n",
      "Epoch 38/200, Train Loss: 0.0186, Val Loss: 0.0213\n",
      "Epoch 39/200, Train Loss: 0.0183, Val Loss: 0.0210\n",
      "Epoch 40/200, Train Loss: 0.0175, Val Loss: 0.0205\n",
      "Epoch 41/200, Train Loss: 0.0174, Val Loss: 0.0189\n",
      "Epoch 42/200, Train Loss: 0.0169, Val Loss: 0.0196\n",
      "Epoch 43/200, Train Loss: 0.0167, Val Loss: 0.0193\n",
      "Epoch 44/200, Train Loss: 0.0165, Val Loss: 0.0206\n",
      "Epoch 45/200, Train Loss: 0.0166, Val Loss: 0.0200\n",
      "Epoch 46/200, Train Loss: 0.0156, Val Loss: 0.0192\n",
      "Epoch 47/200, Train Loss: 0.0145, Val Loss: 0.0192\n",
      "Epoch 48/200, Train Loss: 0.0143, Val Loss: 0.0173\n",
      "Epoch 49/200, Train Loss: 0.0143, Val Loss: 0.0179\n",
      "Epoch 50/200, Train Loss: 0.0132, Val Loss: 0.0174\n",
      "Epoch 51/200, Train Loss: 0.0131, Val Loss: 0.0166\n",
      "Epoch 52/200, Train Loss: 0.0127, Val Loss: 0.0173\n",
      "Epoch 53/200, Train Loss: 0.0126, Val Loss: 0.0175\n",
      "Epoch 54/200, Train Loss: 0.0129, Val Loss: 0.0175\n",
      "Epoch 55/200, Train Loss: 0.0135, Val Loss: 0.0181\n",
      "Epoch 56/200, Train Loss: 0.0127, Val Loss: 0.0167\n",
      "Epoch 57/200, Train Loss: 0.0122, Val Loss: 0.0165\n",
      "Epoch 58/200, Train Loss: 0.0120, Val Loss: 0.0167\n",
      "Epoch 59/200, Train Loss: 0.0118, Val Loss: 0.0171\n",
      "Epoch 60/200, Train Loss: 0.0121, Val Loss: 0.0158\n",
      "Epoch 61/200, Train Loss: 0.0120, Val Loss: 0.0164\n",
      "Epoch 62/200, Train Loss: 0.0115, Val Loss: 0.0161\n",
      "Epoch 63/200, Train Loss: 0.0116, Val Loss: 0.0156\n",
      "Epoch 64/200, Train Loss: 0.0117, Val Loss: 0.0153\n",
      "Epoch 65/200, Train Loss: 0.0113, Val Loss: 0.0163\n",
      "Epoch 66/200, Train Loss: 0.0110, Val Loss: 0.0164\n",
      "Epoch 67/200, Train Loss: 0.0107, Val Loss: 0.0160\n",
      "Epoch 68/200, Train Loss: 0.0106, Val Loss: 0.0156\n",
      "Epoch 69/200, Train Loss: 0.0110, Val Loss: 0.0150\n",
      "Epoch 70/200, Train Loss: 0.0109, Val Loss: 0.0146\n",
      "Epoch 71/200, Train Loss: 0.0103, Val Loss: 0.0158\n",
      "Epoch 72/200, Train Loss: 0.0107, Val Loss: 0.0151\n",
      "Epoch 73/200, Train Loss: 0.0104, Val Loss: 0.0147\n",
      "Epoch 74/200, Train Loss: 0.0106, Val Loss: 0.0155\n",
      "Epoch 75/200, Train Loss: 0.0100, Val Loss: 0.0147\n",
      "Epoch 76/200, Train Loss: 0.0101, Val Loss: 0.0145\n",
      "Epoch 77/200, Train Loss: 0.0098, Val Loss: 0.0146\n",
      "Epoch 78/200, Train Loss: 0.0102, Val Loss: 0.0146\n",
      "Epoch 79/200, Train Loss: 0.0097, Val Loss: 0.0144\n",
      "Epoch 80/200, Train Loss: 0.0097, Val Loss: 0.0146\n",
      "Epoch 81/200, Train Loss: 0.0107, Val Loss: 0.0141\n",
      "Epoch 82/200, Train Loss: 0.0102, Val Loss: 0.0148\n",
      "Epoch 83/200, Train Loss: 0.0098, Val Loss: 0.0148\n",
      "Epoch 84/200, Train Loss: 0.0099, Val Loss: 0.0147\n",
      "Epoch 85/200, Train Loss: 0.0095, Val Loss: 0.0148\n",
      "Epoch 86/200, Train Loss: 0.0099, Val Loss: 0.0144\n",
      "Epoch 87/200, Train Loss: 0.0102, Val Loss: 0.0144\n",
      "Epoch 88/200, Train Loss: 0.0099, Val Loss: 0.0146\n",
      "Epoch 89/200, Train Loss: 0.0098, Val Loss: 0.0144\n",
      "Epoch 90/200, Train Loss: 0.0099, Val Loss: 0.0145\n",
      "Epoch 91/200, Train Loss: 0.0096, Val Loss: 0.0145\n",
      "Early stopping triggered\n",
      "最佳閾值: 0.48, F1=0.878\n",
      "Test Classification Report:\n",
      "              precision    recall  f1-score   support\n",
      "\n",
      "           0       0.99      0.99      0.99      2327\n",
      "           1       0.90      0.85      0.88       232\n",
      "\n",
      "    accuracy                           0.98      2559\n",
      "   macro avg       0.94      0.92      0.93      2559\n",
      "weighted avg       0.98      0.98      0.98      2559\n",
      "\n",
      "Test Confusion Matrix:\n",
      "[[2306   21]\n",
      " [  34  198]]\n"
     ]
    }
   ],
   "source": [
    "!python preaatrain.py"
   ]
  },
  {
   "cell_type": "code",
   "execution_count": 210,
   "id": "0038886f-5187-4e76-93da-c0ec19e2f826",
   "metadata": {},
   "outputs": [
    {
     "name": "stdout",
     "output_type": "stream",
     "text": [
      "✅ 成功將資料輸出為 processed_test_data.npy\n"
     ]
    }
   ],
   "source": [
    "!python pretest.py"
   ]
  },
  {
   "cell_type": "code",
   "execution_count": 225,
   "id": "97b931c7-2111-4c3d-8939-2096ccbb6607",
   "metadata": {
    "scrolled": true
   },
   "outputs": [
    {
     "name": "stdout",
     "output_type": "stream",
     "text": [
      "使用設備: cuda\n",
      "使用設備: cuda\n",
      "模型已載入並設置為評估模式\n",
      "最佳閾值: 0.46, F1=0.909\n",
      "Test Classification Report:\n",
      "              precision    recall  f1-score   support\n",
      "\n",
      "           0       0.98      1.00      0.99      2327\n",
      "           1       0.97      0.82      0.89       232\n",
      "\n",
      "    accuracy                           0.98      2559\n",
      "   macro avg       0.98      0.91      0.94      2559\n",
      "weighted avg       0.98      0.98      0.98      2559\n",
      "\n",
      "Test Confusion Matrix:\n",
      "[[2322    5]\n",
      " [  41  191]]\n",
      "預測結果已儲存至 ./nononono_predictions.csv\n"
     ]
    }
   ],
   "source": [
    "!python infer.py"
   ]
  },
  {
   "cell_type": "code",
   "execution_count": 226,
   "id": "5c3d5c21-8ca4-4e33-9221-c4e8e18b9cee",
   "metadata": {},
   "outputs": [
    {
     "name": "stdout",
     "output_type": "stream",
     "text": [
      "使用設備: cuda\n",
      "使用設備: cuda\n",
      "模型已載入並設置為評估模式\n",
      "預測結果已儲存至 ./test_predictions.csv\n"
     ]
    }
   ],
   "source": [
    "!python final_output.py"
   ]
  },
  {
   "cell_type": "code",
   "execution_count": 229,
   "id": "43950e14-10e5-48a7-9d3a-1a78b6b8ec67",
   "metadata": {},
   "outputs": [
    {
     "name": "stdout",
     "output_type": "stream",
     "text": [
      "New CSV file './result/B_台新金控_UAV_test_result.csv' has been created with ACCT_NBR, Predicted_Label, and Probability.\n"
     ]
    }
   ],
   "source": [
    "import pandas as pd\n",
    "\n",
    "# Step 1: Load the ANS file to get the target ACCT_NBR list\n",
    "ans_df = pd.read_csv(\"./比賽用資料/Test/(Test)ANS_參賽者_202501.csv\")\n",
    "target_acct_nbr = ans_df['ACCT_NBR'].tolist()\n",
    "\n",
    "# Step 2: Load the ACCTS_Data file and create a mapping from ACCT_NBR to CUST_ID\n",
    "accts_df = pd.read_csv(\"./比賽用資料/Test/(Test)ACCTS_Data_202501.csv\")\n",
    "acct_to_cust = dict(zip(accts_df['ACCT_NBR'], accts_df['CUST_ID']))\n",
    "\n",
    "# Step 3: Load the test_predictions file and create a mapping from CUST_ID to prediction\n",
    "predictions_df = pd.read_csv(\"test_predictions.csv\")\n",
    "cust_to_pred = predictions_df.set_index('CUST_ID')[['Predicted_Label', 'Probability']].to_dict('index')\n",
    "\n",
    "# Step 4: Map predictions to each ACCT_NBR in the ANS file\n",
    "result = []\n",
    "for acct_nbr in target_acct_nbr:\n",
    "    cust_id = acct_to_cust.get(acct_nbr)\n",
    "    if cust_id and cust_id in cust_to_pred:\n",
    "        pred = cust_to_pred[cust_id]\n",
    "        result.append({\n",
    "            'ACCT_NBR': acct_nbr,\n",
    "            'Y': '1' if pred['Predicted_Label'] == 1 else None,\n",
    "        })\n",
    "    else:\n",
    "        # Handle cases where mapping is missing (optional: set defaults or skip)\n",
    "        result.append({\n",
    "            'ACCT_NBR': acct_nbr,\n",
    "            'Y': None,\n",
    "        })\n",
    "\n",
    "# Step 5: Convert the result to a DataFrame and save to a new CSV\n",
    "output_df = pd.DataFrame(result)\n",
    "output_df.to_csv(\"./result/B_台新金控_UAV_test_result.csv\", index=False)\n",
    "\n",
    "print(\"New CSV file './result/B_台新金控_UAV_test_result.csv' has been created with ACCT_NBR, Predicted_Label, and Probability.\")"
   ]
  },
  {
   "cell_type": "code",
   "execution_count": 228,
   "id": "e3b53498-3801-4cdc-a4a3-bfa947b1bef5",
   "metadata": {},
   "outputs": [
    {
     "name": "stdout",
     "output_type": "stream",
     "text": [
      "警示戶數量: 221\n",
      "總戶數: 6458\n",
      "警示戶佔比: 3.42%\n"
     ]
    }
   ],
   "source": [
    "import pandas as pd\n",
    "\n",
    "# 讀取已經映射好預測結果的檔案\n",
    "df = pd.read_csv(\"./result/B_台新金控_UAV_test_result.csv\")\n",
    "\n",
    "# 警示戶的條件：Predicted_Label == '1'\n",
    "n_alert = (df['Predicted_Label'] == 1).sum()\n",
    "n_total = len(df)\n",
    "\n",
    "ratio = n_alert / n_total if n_total != 0 else 0\n",
    "\n",
    "print(f\"警示戶數量: {n_alert}\")\n",
    "print(f\"總戶數: {n_total}\")\n",
    "print(f\"警示戶佔比: {ratio:.2%}\")\n"
   ]
  },
  {
   "cell_type": "code",
   "execution_count": null,
   "id": "2e6fecbb-3356-4096-96f6-dc0c21c7203c",
   "metadata": {},
   "outputs": [],
   "source": []
  },
  {
   "cell_type": "code",
   "execution_count": null,
   "id": "8bfbe454-9105-42f6-939b-ec587bca6dcd",
   "metadata": {},
   "outputs": [],
   "source": []
  }
 ],
 "metadata": {
  "kernelspec": {
   "display_name": "Python 3 (ipykernel)",
   "language": "python",
   "name": "python3"
  },
  "language_info": {
   "codemirror_mode": {
    "name": "ipython",
    "version": 3
   },
   "file_extension": ".py",
   "mimetype": "text/x-python",
   "name": "python",
   "nbconvert_exporter": "python",
   "pygments_lexer": "ipython3",
   "version": "3.12.9"
  }
 },
 "nbformat": 4,
 "nbformat_minor": 5
}
